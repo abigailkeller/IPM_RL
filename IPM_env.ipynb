{
 "cells": [
  {
   "cell_type": "code",
   "execution_count": 4,
   "id": "bd943ea0",
   "metadata": {},
   "outputs": [],
   "source": [
    "#pip install gym"
   ]
  },
  {
   "cell_type": "code",
   "execution_count": 3,
   "id": "f56da8c0",
   "metadata": {},
   "outputs": [],
   "source": [
    "#load packages\n",
    "import gym\n",
    "import numpy as np\n",
    "from gym import spaces\n",
    "from scipy.stats import norm"
   ]
  },
  {
   "cell_type": "code",
   "execution_count": 5,
   "id": "461f85bc",
   "metadata": {},
   "outputs": [],
   "source": [
    "class invasive_IPM(gym.Env):\n",
    "    metadata = {\"render.modes\": [\"human\"]}\n",
    "\n",
    "    def __init__(\n",
    "        self,\n",
    "        params={\"growth_k\": 0.43, \"growth_xinf\": 109, \"growth_sd\": 2.5, \"nmortality\": 0.03,\n",
    "               \"trapm_sigma\": 0.15, \"trapm_xmax\": 44, \"trapm_pmax\": 0.0005, \"trapf_pmax\": 0.0008,\n",
    "               \"trapf_k\": 0.5, \"trapf_midpoint\": 45, \"init_mean_recruit\": 15, \"init_sd_recruit\": 1.5,\n",
    "               \"init_mean_adult\": 65, \"init_sd_adult\": 8, \"init_n_recruit\": 1000, \"init_n_adult\": 1000,\n",
    "               \"w_mort_scale\": 5, \"K\": 30000, \"imm\": 3000, \"r\": 1.2, \"area\": 4000,\"loss_a\": 0.265,\n",
    "               \"loss_b\": 2.80, \"loss_c\": 2.99, \"minsize\": 5, \"maxsize\": 110, \"nsize\": 21, \"delta_t\": 1/12},\n",
    "        Tmax=100,\n",
    "        file=None,\n",
    "    ):\n",
    "        \n",
    "        # parameters\n",
    "        self.growth_k = params[\"growth_k\"]\n",
    "        self.growth_xinf = params[\"growth_xinf\"]\n",
    "        self.growth_sd = params[\"growth_sd\"]\n",
    "        self.nmortality = params[\"nmortality\"]\n",
    "        self.trapm_sigma = params[\"trapm_sigma\"]\n",
    "        self.trapm_xmax = params[\"trapm_xmax\"]\n",
    "        self.trapm_pmax = params[\"trapm_pmax\"]\n",
    "        self.trapf_pmax = params[\"trapf_pmax\"]\n",
    "        self.trapf_k = params[\"trapf_k\"]\n",
    "        self.trapf_midpoint = params[\"trapf_midpoint\"]\n",
    "        self.init_mean_recruit = params[\"init_mean_recruit\"]\n",
    "        self.init_sd_recruit = params[\"init_sd_recruit\"]\n",
    "        self.init_mean_adult = params[\"init_mean_adult\"]\n",
    "        self.init_sd_adult = params[\"init_sd_adult\"]\n",
    "        self.init_n_recruit = params[\"init_n_recruit\"]\n",
    "        self.init_n_adult = params[\"init_n_adult\"]\n",
    "        self.w_mort_scale = params[\"w_mort_scale\"]\n",
    "        self.K = params[\"K\"]\n",
    "        self.imm = params[\"imm\"]\n",
    "        self.r = params[\"r\"]\n",
    "        self.area = params[\"area\"]\n",
    "        self.loss_a = params[\"loss_a\"]\n",
    "        self.loss_b = params[\"loss_b\"]\n",
    "        self.loss_c = params[\"loss_c\"]\n",
    "        self.minsize = params[\"minsize\"]\n",
    "        self.maxsize = params[\"maxsize\"]\n",
    "        self.nsize = params[\"nsize\"]\n",
    "        self.delta_t = params[\"delta_t\"]\n",
    "        self.params = params\n",
    "\n",
    "        # Preserve these for reset\n",
    "        self.population = init_state(self)\n",
    "        self.observations = np.array([0,0,0,0,0,0,0,0,0], dtype=np.float32)\n",
    "        self.reward = 0\n",
    "        self.years_passed = 0\n",
    "        self.Tmax = Tmax\n",
    "                \n",
    "        # Initial state\n",
    "        self.state = init_state(self)\n",
    "\n",
    "        # Action space\n",
    "        self.action_space = spaces.Box(\n",
    "            np.array([0], dtype=np.float32),\n",
    "            np.array([1000], dtype=np.float32),\n",
    "            dtype=np.float32,\n",
    "        )\n",
    "        \n",
    "        # Observation space\n",
    "        self.observation_space = spaces.Box(\n",
    "            np.array([0,0,0,0,0,0,0,0,0], dtype=np.float32),\n",
    "            np.array([2000,2000,2000,2000,2000,2000,2000,2000,2000], dtype=np.float32),\n",
    "            dtype=np.float32,\n",
    "        )\n",
    "        \n",
    "    def step(self,action):\n",
    "        #size selective harvest rate, given action\n",
    "        harvest_rate = 1-np.exp(-(size_sel_norm(self)*action/2 + size_sel_log(self)*action/2))\n",
    "\n",
    "        #add pop at t=1\n",
    "        size_freq = np.zeros(shape=(self.nsize,9),dtype='object')\n",
    "        size_freq[:,0] = self.state\n",
    "\n",
    "        #create array to store # removed\n",
    "        removed = np.empty(shape=(self.nsize,9),dtype='object')\n",
    "\n",
    "        #loop through intra-annual change (9 months)\n",
    "        for i in range(9):\n",
    "            #apply monthly harvest rate\n",
    "            removed[:,i] = size_freq[:,i]*harvest_rate\n",
    "        \n",
    "        for j in range(8):\n",
    "            #project to next month\n",
    "            size_freq[:,j+1] = g_m_kernel(self)@size_freq[:,j] - removed[:,j]\n",
    "\n",
    "        for i in range(9):\n",
    "            #record the catch/effort in the observation space\n",
    "            #### maybe remove effort\n",
    "            self.observations[i] = np.sum(removed[:,i])/action\n",
    "\n",
    "        #calculate new adult population after overwinter mortality\n",
    "        new_adults = size_freq[:,8]*np.exp(-w_mortality(self))\n",
    "\n",
    "        #simulate new recruits\n",
    "        local_recruits = np.random.normal(dd_growth(self),dd_growth(self)/4)\n",
    "        nonlocal_recruits = np.random.normal(self.imm,self.imm/4)*(1-np.sum(self.state)/self.K)\n",
    "        recruit_total = local_recruits + nonlocal_recruits\n",
    "\n",
    "        #get sizes of recruits\n",
    "        recruit_sizes = (norm.cdf(boundary(self)[1:(self.nsize+1)],self.init_mean_recruit,self.init_sd_recruit)-\\\n",
    "         norm.cdf(boundary(self)[0:self.nsize],self.init_mean_recruit,self.init_sd_recruit))*recruit_total\n",
    "\n",
    "        #store new population size\n",
    "        self.state = recruit_sizes + new_adults\n",
    "\n",
    "        #calculate reward\n",
    "        self.reward = reward_func(self)\n",
    "        self.years_passed += 1\n",
    "\n",
    "        done = bool(self.years_passed > self.Tmax)\n",
    "\n",
    "        if np.sum(self.state) <= 0.0:\n",
    "            done = True\n",
    "\n",
    "        return self.observations, self.reward, done, done, {}\n",
    "        \n",
    "    def reset(self):\n",
    "        self.state = init_state(self)\n",
    "        self.years_passed = 0\n",
    "\n",
    "        # for tracking only\n",
    "        self.reward = 0\n",
    "\n",
    "        self.observations = np.array([0,0,0,0,0,0,0,0,0], dtype=np.float32)\n",
    "\n",
    "        return self.observations"
   ]
  },
  {
   "cell_type": "code",
   "execution_count": 58,
   "id": "80796f33",
   "metadata": {},
   "outputs": [],
   "source": [
    "self = invasive_IPM()"
   ]
  },
  {
   "cell_type": "code",
   "execution_count": 77,
   "id": "a213ee83",
   "metadata": {},
   "outputs": [
    {
     "data": {
      "text/plain": [
       "-0.2647517223286356"
      ]
     },
     "execution_count": 77,
     "metadata": {},
     "output_type": "execute_result"
    }
   ],
   "source": [
    "action = 25\n",
    "self.reset()\n",
    "-self.loss_a/(1+np.exp(self.loss_b*(np.sum(self.state)/4000-self.loss_c)))"
   ]
  },
  {
   "cell_type": "code",
   "execution_count": 6,
   "id": "5ed27921",
   "metadata": {},
   "outputs": [],
   "source": [
    "#set up boundary points of IPM mesh\n",
    "def boundary(self):\n",
    "    boundary = self.minsize+np.arange(0,(self.nsize+1),1)*(self.maxsize-self.minsize)/self.nsize\n",
    "    return boundary"
   ]
  },
  {
   "cell_type": "code",
   "execution_count": 7,
   "id": "668df7a3",
   "metadata": {},
   "outputs": [],
   "source": [
    "#set up mid points of IPM mesh\n",
    "def midpoints(self):\n",
    "    midpoints = 0.5*(boundary(self)[0:self.nsize]+boundary(self)[1:(self.nsize+1)])\n",
    "    return midpoints"
   ]
  },
  {
   "cell_type": "code",
   "execution_count": 8,
   "id": "75c4f8ff",
   "metadata": {},
   "outputs": [],
   "source": [
    "#function for initial state\n",
    "def init_state(self):\n",
    "    init_pop = (norm.cdf(boundary(self)[1:(self.nsize+1)],self.init_mean_adult,self.init_sd_adult)-\\\n",
    "     norm.cdf(boundary(self)[0:self.nsize],self.init_mean_adult,self.init_sd_adult))*self.init_n_adult+\\\n",
    "    (norm.cdf(boundary(self)[1:(self.nsize+1)],self.init_mean_recruit,self.init_sd_recruit)-\\\n",
    "     norm.cdf(boundary(self)[0:self.nsize],self.init_mean_recruit,self.init_sd_recruit))*self.init_n_recruit\n",
    "    return init_pop"
   ]
  },
  {
   "cell_type": "code",
   "execution_count": 9,
   "id": "f7c58592",
   "metadata": {},
   "outputs": [],
   "source": [
    "#function for logistic size selectivity curve\n",
    "def size_sel_log(self):\n",
    "    size_sel = self.trapf_pmax/(1+np.exp(-self.trapf_k*(midpoints(self)-self.trapf_midpoint)))\n",
    "    return size_sel"
   ]
  },
  {
   "cell_type": "code",
   "execution_count": 10,
   "id": "db9ab0c6",
   "metadata": {},
   "outputs": [],
   "source": [
    "#function for gaussian size selectivity curve\n",
    "def size_sel_norm(self):\n",
    "    size_sel = self.trapm_pmax*np.exp(-(midpoints(self)-self.trapm_xmax)**2/2*self.trapm_sigma**2)\n",
    "    return size_sel"
   ]
  },
  {
   "cell_type": "code",
   "execution_count": 11,
   "id": "72c3c99b",
   "metadata": {},
   "outputs": [],
   "source": [
    "#function for growth/mortality kernel\n",
    "def g_m_kernel(self):\n",
    "    array = np.empty(shape=(self.nsize,self.nsize),dtype='object')\n",
    "    for i in range(self.nsize):\n",
    "        mean = (self.growth_xinf-midpoints(self)[i])*(1-np.exp(-self.growth_k*self.delta_t)) + midpoints(self)[i]\n",
    "        array[:,i] = (norm.cdf(boundary(self)[1:(self.nsize+1)],mean,self.growth_sd)-\\\n",
    "                      norm.cdf(boundary(self)[0:self.nsize],mean,self.growth_sd))*np.exp(-self.nmortality)\n",
    "    return array"
   ]
  },
  {
   "cell_type": "code",
   "execution_count": 12,
   "id": "3ce0bfc1",
   "metadata": {},
   "outputs": [],
   "source": [
    "#function for overwinter mortality\n",
    "def w_mortality(self):\n",
    "    wmort = self.w_mort_scale/midpoints(self)\n",
    "    return wmort"
   ]
  },
  {
   "cell_type": "code",
   "execution_count": 13,
   "id": "fd28d160",
   "metadata": {},
   "outputs": [],
   "source": [
    "#function for density dependent growth\n",
    "def dd_growth(self):\n",
    "    dd_recruits = np.sum(self.state)*self.r*(1-np.sum(self.state)/self.K)\n",
    "    return dd_recruits"
   ]
  },
  {
   "cell_type": "code",
   "execution_count": 14,
   "id": "5c11157c",
   "metadata": {},
   "outputs": [],
   "source": [
    "#function for reward\n",
    "def reward_func(self):\n",
    "    reward = -self.loss_a/(1+np.exp(self.loss_b*(np.sum(self.state)/self.area-self.loss_c)))\n",
    "    return reward"
   ]
  },
  {
   "cell_type": "code",
   "execution_count": 16,
   "id": "34f2a8ef",
   "metadata": {},
   "outputs": [],
   "source": [
    "env=invasive_IPM()   "
   ]
  },
  {
   "cell_type": "code",
   "execution_count": 41,
   "id": "e541dea4",
   "metadata": {},
   "outputs": [
    {
     "data": {
      "text/plain": [
       "0"
      ]
     },
     "execution_count": 41,
     "metadata": {},
     "output_type": "execute_result"
    }
   ],
   "source": [
    "episode_reward = 0\n",
    "env.reset()\n",
    "env.reward"
   ]
  },
  {
   "cell_type": "code",
   "execution_count": 17,
   "id": "bbf961cb",
   "metadata": {},
   "outputs": [
    {
     "data": {
      "text/plain": [
       "-0.25783387283049014"
      ]
     },
     "execution_count": 17,
     "metadata": {},
     "output_type": "execute_result"
    }
   ],
   "source": [
    "observation,reward,terminated,done,info=env.step(25)\n",
    "reward"
   ]
  },
  {
   "cell_type": "code",
   "execution_count": 89,
   "id": "9c7ce0c7",
   "metadata": {},
   "outputs": [
    {
     "data": {
      "text/plain": [
       "0"
      ]
     },
     "execution_count": 89,
     "metadata": {},
     "output_type": "execute_result"
    }
   ],
   "source": [
    "env.reward"
   ]
  },
  {
   "cell_type": "code",
   "execution_count": 96,
   "id": "abebe576",
   "metadata": {},
   "outputs": [
    {
     "name": "stdout",
     "output_type": "stream",
     "text": [
      "-1.3483094020399223e-05\n",
      "-0.0004210189285177259\n",
      "-0.0004395885727792677\n",
      "-0.0004924467100960526\n",
      "-0.0010904159524171941\n",
      "-0.001226258918644944\n",
      "-0.0016484403258451574\n",
      "-0.0016534365109421199\n",
      "-0.0018916868669725394\n",
      "-0.002243381523420129\n",
      "-0.00234601902388302\n",
      "-0.0023627863950251493\n",
      "-0.002423250116212694\n",
      "-0.002436043586220065\n",
      "-0.002625696352814231\n",
      "-0.002642750152529128\n",
      "-0.0028112526685008703\n",
      "-0.002932984285610109\n",
      "-0.0029515669760694675\n",
      "-0.003089726980346676\n",
      "-0.0031651936311454616\n",
      "-0.003310453202407089\n",
      "-0.0035916239358029993\n",
      "-0.004356088526554937\n",
      "-0.004410564121675883\n",
      "-0.004486155436431395\n",
      "-0.004515783149220741\n",
      "-0.004597079755695389\n",
      "-0.004630113641069404\n",
      "-0.00473617458325576\n"
     ]
    }
   ],
   "source": [
    "episode_reward = 0.0\n",
    "for t in range(30):\n",
    "    observation,reward,terminated,done,info=env.step(25)\n",
    "    episode_reward += reward\n",
    "    #print(observation)\n",
    "    print(episode_reward)"
   ]
  }
 ],
 "metadata": {
  "kernelspec": {
   "display_name": "Python 3 (ipykernel)",
   "language": "python",
   "name": "python3"
  },
  "language_info": {
   "codemirror_mode": {
    "name": "ipython",
    "version": 3
   },
   "file_extension": ".py",
   "mimetype": "text/x-python",
   "name": "python",
   "nbconvert_exporter": "python",
   "pygments_lexer": "ipython3",
   "version": "3.9.15"
  }
 },
 "nbformat": 4,
 "nbformat_minor": 5
}
