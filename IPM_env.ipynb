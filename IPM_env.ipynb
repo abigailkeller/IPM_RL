{
 "cells": [
  {
   "cell_type": "code",
   "execution_count": 3,
   "id": "bd943ea0",
   "metadata": {},
   "outputs": [],
   "source": [
    "#pip install gym_fishing"
   ]
  },
  {
   "cell_type": "code",
   "execution_count": 4,
   "id": "f56da8c0",
   "metadata": {},
   "outputs": [],
   "source": [
    "#load packages\n",
    "import gym\n",
    "import numpy as np\n",
    "from gym import spaces\n",
    "from scipy.stats import norm\n",
    "\n",
    "from gym_fishing.envs.shared_env import (\n",
    "    csv_entry,\n",
    "    estimate_policyfn,\n",
    "    plot_mdp,\n",
    "    plot_policyfn,\n",
    "    simulate_mdp,\n",
    ")"
   ]
  },
  {
   "cell_type": "code",
   "execution_count": 56,
   "id": "461f85bc",
   "metadata": {},
   "outputs": [],
   "source": [
    "class invasive_IPM(gym.Env):\n",
    "    metadata = {\"render.modes\": [\"human\"]}\n",
    "\n",
    "    def __init__(\n",
    "        self,\n",
    "        params={\"growth_k\": 0.43, \"growth_xinf\": 109, \"growth_sd\": 2.5, \"nmortality\": 0.03,\n",
    "               \"trapm_sigma\": 0.15, \"trapm_xmax\": 44, \"trapm_pmax\": 0.0005, \"trapmf_pmax\": 0.0008,\n",
    "               \"trapf_k\": 0.5, \"trapf_midpoint\": 45, \"init_mean_recruit\": 15, \"init_sd_recruit\": 1.5,\n",
    "               \"init_mean_adult\": 65, \"init_sd_adult\": 8, \"init_n_recruit\": 1000, \"init_n_adult\": 1000,\n",
    "               \"w_mort_scale\": 5, \"K\": 30000, \"imm\": 3000, \"r\": 1.2, \"loss_a\": 0.265,\n",
    "               \"loss_b\": 2.80, \"loss_c\": 2.99, \"minsize\": 5, \"maxsize\": 110, \"nsize\": 21, \"delta_t\": 1/12},\n",
    "        Tmax=100,\n",
    "        file=None,\n",
    "    ):\n",
    "        \n",
    "        # parameters\n",
    "        self.growth_k = params[\"growth_k\"]\n",
    "        self.growth_xinf = params[\"growth_xinf\"]\n",
    "        self.growth_sd = params[\"growth_sd\"]\n",
    "        self.nmortality = params[\"nmortality\"]\n",
    "        self.trapm_sigma = params[\"trapm_sigma\"]\n",
    "        self.trapm_xmax = params[\"trapm_xmax\"]\n",
    "        self.trapm_pmax = params[\"trapm_pmax\"]\n",
    "        self.trapf_pmax = params[\"trapf_pmax\"]\n",
    "        self.trapf_k = params[\"trapf_k\"]\n",
    "        self.trapf_midpoint = params[\"trapf_midpoint\"]\n",
    "        self.init_mean_recruit = params[\"init_mean_recruit\"]\n",
    "        self.init_sd_recruit = params[\"init_sd_recruit\"]\n",
    "        self.init_mean_adult = params[\"init_mean_adult\"]\n",
    "        self.init_sd_adult = params[\"init_sd_adult\"]\n",
    "        self.init_n_recruit = params[\"init_n_recruit\"]\n",
    "        self.init_n_adult = params[\"init_n_adult\"]\n",
    "        self.w_mort_scale = params[\"w_mort_scale\"]\n",
    "        self.K = params[\"K\"]\n",
    "        self.imm = params[\"imm\"]\n",
    "        self.r = params[\"r\"]\n",
    "        self.loss_a = params[\"loss_a\"]\n",
    "        self.loss_b = params[\"loss_b\"]\n",
    "        self.loss_c = params[\"loss_c\"]\n",
    "        self.minsize = params[\"minsize\"]\n",
    "        self.maxsize = params[\"maxsize\"]\n",
    "        self.nsize = params[\"nsize\"]\n",
    "        self.delta_t = params[\"delta_t\"]\n",
    "        self.params = params\n",
    "\n",
    "        # Preserve these for reset\n",
    "        ####!!!! is this code declarative/imperative?!\n",
    "        self.population = init_state(self)\n",
    "        self.reward = 0\n",
    "        self.catch = np.array([0,0,0,0,0,0,0,0,0], dtype=np.float32)\n",
    "        self.years_passed = 0\n",
    "        self.Tmax = Tmax\n",
    "        self.file = file\n",
    "\n",
    "        # for render() method only\n",
    "        if file is not None:\n",
    "            self.write_obj = open(file, \"w+\")\n",
    "\n",
    "        # Initial state\n",
    "        self.state = init_state(self)\n",
    "\n",
    "        # Action space\n",
    "        self.action_space = spaces.Box(\n",
    "            np.array([0], dtype=np.float32),\n",
    "            np.array([1000], dtype=np.float32),\n",
    "            dtype=np.float32,\n",
    "        )\n",
    "        \n",
    "        # Observation space\n",
    "        self.observation_space = spaces.Box(\n",
    "            np.array([0,0,0,0,0,0,0,0,0], dtype=np.float32),\n",
    "            np.array([2000,2000,2000,2000,2000,2000,2000,2000,2000], dtype=np.float32),\n",
    "            dtype=np.float32,\n",
    "        )\n",
    "        "
   ]
  },
  {
   "cell_type": "code",
   "execution_count": 24,
   "id": "5ed27921",
   "metadata": {},
   "outputs": [],
   "source": [
    "#set up boundary points of IPM mesh\n",
    "def boundary(self):\n",
    "    boundary = self.minsize+np.arange(0,(self.nsize+1),1)*(self.maxsize-self.minsize)/self.nsize\n",
    "    return boundary"
   ]
  },
  {
   "cell_type": "code",
   "execution_count": 35,
   "id": "668df7a3",
   "metadata": {},
   "outputs": [],
   "source": [
    "#set up mid points of IPM mesh\n",
    "def midpoints(self):\n",
    "    midpoints = 0.5*(boundary(self)[0:self.nsize]+boundary(self)[1:(self.nsize+1)])\n",
    "    return midpoints"
   ]
  },
  {
   "cell_type": "code",
   "execution_count": null,
   "id": "75c4f8ff",
   "metadata": {},
   "outputs": [],
   "source": [
    "#function for initial state\n",
    "def init_state(self):\n",
    "    init_pop = (norm.cdf(boundary(self)[1:(self.nsize+1)],self.init_mean_adult,self.init_sd_adult)-\\\n",
    "     norm.cdf(boundary(self)[0:self.nsize],self.init_mean_adult,self.init_sd_adult))*self.init_n_adult+\\\n",
    "    (norm.cdf(boundary(self)[1:(self.nsize+1)],self.init_mean_recruit,self.init_sd_recruit)-\\\n",
    "     norm.cdf(boundary(self)[0:self.nsize],self.init_mean_recruit,self.init_sd_recruit))*self.init_n_recruit\n",
    "    return init_pop"
   ]
  },
  {
   "cell_type": "code",
   "execution_count": null,
   "id": "f7c58592",
   "metadata": {},
   "outputs": [],
   "source": [
    "#function for logistic size selectivity curve\n",
    "def size_sel_log(self):\n",
    "    size_sel = self.trapf_pmax/(1+np.exp(-self.trapf_k*(midpoints(self)-self.trapf_midpoint)))\n",
    "    return size_sel"
   ]
  },
  {
   "cell_type": "code",
   "execution_count": null,
   "id": "db9ab0c6",
   "metadata": {},
   "outputs": [],
   "source": [
    "#function for gaussian size selectivity curve\n",
    "def size_sel_norm(self):\n",
    "    size_sel = self.trapm_pmax*np.exp(-(midpoints(self)-self.trapm_xmax)**2/2*self.trapm_sigma**2)\n",
    "    return size_sel"
   ]
  },
  {
   "cell_type": "code",
   "execution_count": null,
   "id": "72c3c99b",
   "metadata": {},
   "outputs": [],
   "source": [
    "#function for growth/mortality kernel\n",
    "def g_m_kernel(self):\n",
    "    array = np.empty(shape=(self.nsize,self.nsize),dtype='object')\n",
    "    for i in range(self.nsize):\n",
    "        mean = (self.growth_xinf-midpoints(self)[i])*(1-np.exp(-self.growth_k*self.delta_t)) + midpoints(self)[i]\n",
    "        array[:,i] = (norm.cdf(boundary(self)[1:(self.nsize+1)],mean,self.growth_sd)-\\\n",
    "                      norm.cdf(boundary(self)[0:self.nsize],mean,self.growth_sd))*np.exp(-self.nmortality)\n",
    "    return array"
   ]
  },
  {
   "cell_type": "code",
   "execution_count": 74,
   "id": "3ce0bfc1",
   "metadata": {},
   "outputs": [],
   "source": [
    "#function for overwinter mortality\n",
    "def w_mortality(self):\n",
    "    wmort = self.w_mort_scale/midpoints(self)\n",
    "    return wmort"
   ]
  },
  {
   "cell_type": "code",
   "execution_count": null,
   "id": "fd28d160",
   "metadata": {},
   "outputs": [],
   "source": [
    "#function for density dependent growth\n",
    "##!!!! should this be self.state or self.population?!\n",
    "def dd_growth(self):\n",
    "    dd_recruits = np.sum(self.state)*self.r*(1-np.sum(self.state)/self.K)\n",
    "    return dd_recruits"
   ]
  },
  {
   "cell_type": "code",
   "execution_count": null,
   "id": "5c11157c",
   "metadata": {},
   "outputs": [],
   "source": [
    "#function for reward\n",
    "def reward_func(self):\n",
    "    -self.loss_a/(1+np.exp(self.loss_b*(self.state-self.loss_c)))"
   ]
  },
  {
   "cell_type": "code",
   "execution_count": null,
   "id": "0c0745f2",
   "metadata": {},
   "outputs": [],
   "source": [
    "def step(self,action):\n",
    "    \n",
    "    #size selective harvest rate, given action\n",
    "    harvest_rate = 1-np.exp(-(size_sel_norm(self)*action/2 + size_sel_log(self)*action/2))\n",
    "    \n",
    "    #add pop at t=1\n",
    "    size_freq = np.empty(shape=(self.nsize,9),dtype='object')\n",
    "    size_freq[:,0] = self.state\n",
    "    \n",
    "    #create array to store # removed\n",
    "    removed = np.empty(shape=(self.nsize,9),dtype='object')\n",
    "    \n",
    "    #loop through intra-annual change (9 months)\n",
    "    for i in range(9):\n",
    "        #apply monthly harvest rate\n",
    "        removed[:,i] = size_freq[:,i]*harvest_rate\n",
    "        self.catch[i] = np.sum(removed[:,i])\n",
    "        \n",
    "        #project to next month\n",
    "        size_freq[:,i+1] = g_m_kernel(self)@size_freq[:,i] - removed[:,i]\n",
    "        \n",
    "        #record the catch/effort in the observation space\n",
    "        ####!!!! is this how you store the observations?!\n",
    "        self.observation_space[i] = self.catch[i]/action \n",
    "    \n",
    "    #calculate new adult population after overwinter mortality\n",
    "    new_adults = size_freq[:,9]*np.exp(-w_mortality(self))\n",
    "    \n",
    "    #simulate new recruits\n",
    "    local_recruits = np.random.normal(dd_growth(self),dd_growth(self)/4)\n",
    "    nonlocal_recruits = np.random.normal(self.imm,self.imm/4)*(1-np.sum(self.state)/self.K)\n",
    "    recruit_total = local_recruits + nonlocal_recruits\n",
    "    \n",
    "    #get sizes of recruits\n",
    "    recruit_sizes = (norm.cdf(boundary(self)[1:(self.nsize+1)],self.init_mean_recruit,self.init_sd_recruit)-\\\n",
    "     norm.cdf(boundary(self)[0:self.nsize],self.init_mean_recruit,self.init_sd_recruit))*recruit_total\n",
    "    \n",
    "    #store new population size\n",
    "    self.state = recruit_sizes + new_adults\n",
    "    \n",
    "    #calculate reward\n",
    "    self.reward = reward_func(self)\n",
    "    self.years_passed += 1\n",
    "        done = bool(self.years_passed > self.Tmax)\n",
    "\n",
    "        if self.state <= 0.0:\n",
    "            done = True\n",
    "            \n",
    "    return self.state, self.reward, done, {}"
   ]
  },
  {
   "cell_type": "code",
   "execution_count": null,
   "id": "4227ed0a",
   "metadata": {},
   "outputs": [],
   "source": [
    "def reset(self):\n",
    "        self.state = init_state(self)\n",
    "        self.years_passed = 0\n",
    "\n",
    "        # for tracking only\n",
    "        self.reward = 0\n",
    "        self.catch = np.array([0,0,0,0,0,0,0,0,0], dtype=np.float32)\n",
    "        return self.state"
   ]
  },
  {
   "cell_type": "code",
   "execution_count": null,
   "id": "952d2bd6",
   "metadata": {},
   "outputs": [],
   "source": [
    "def render(self, mode=\"human\"):\n",
    "        return csv_entry(self)\n",
    "\n",
    "def close(self):\n",
    "    if self.file is not None:\n",
    "        self.write_obj.close()\n",
    "\n",
    "def simulate(env, model, reps=1):\n",
    "    return simulate_mdp(env, model, reps)\n",
    "\n",
    "def plot(self, df, output=\"results.png\"):\n",
    "    return plot_mdp(self, df, output)\n",
    "\n",
    "def policyfn(env, model, reps=1):\n",
    "    return estimate_policyfn(env, model, reps)\n",
    "\n",
    "def plot_policy(self, df, output=\"results.png\"):\n",
    "    return plot_policyfn(self, df, output)"
   ]
  }
 ],
 "metadata": {
  "kernelspec": {
   "display_name": "Python 3 (ipykernel)",
   "language": "python",
   "name": "python3"
  },
  "language_info": {
   "codemirror_mode": {
    "name": "ipython",
    "version": 3
   },
   "file_extension": ".py",
   "mimetype": "text/x-python",
   "name": "python",
   "nbconvert_exporter": "python",
   "pygments_lexer": "ipython3",
   "version": "3.9.15"
  }
 },
 "nbformat": 4,
 "nbformat_minor": 5
}
